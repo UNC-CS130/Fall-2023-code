{
  "cells": [
    {
      "cell_type": "markdown",
      "metadata": {},
      "source": [
        "# Friday, October 27\n",
        "\n",
        "## Announcements and Reminders\n",
        "\n",
        "- Exercises for Chapter 10: due tonight\n",
        "- Read Chapter 11 (due Wednesday)\n"
      ]
    },
    {
      "cell_type": "markdown",
      "metadata": {},
      "source": [
        "## Activity: Exploring a Movie Database\n",
        "\n",
        "Last time we saw how to import a `.csv` file and store it as a *list of lists*.  Then we started converting that list of lists into a list of dictionaries.\n",
        "\n",
        "Here is a review of what we did last time:"
      ]
    },
    {
      "cell_type": "code",
      "execution_count": 3,
      "metadata": {},
      "outputs": [
        {
          "name": "stdout",
          "output_type": "stream",
          "text": [
            "{'Title': 'Superbabies: Baby Geniuses 2', 'Year': '2004', 'Rated': 'PG', 'Released': '27 Aug 2004', 'Runtime': '88 min', 'Genre': 'Comedy, Family, Sci-Fi', 'Director': 'Bob Clark', 'Writer': 'Steven Paul (story), Gregory Poppen (screenplay)', 'Actors': 'Jon Voight, Scott Baio, Vanessa Angel, Skyler Shaye', 'Plot': \"A group of smart-talking toddlers find themselves at the center of a media mogul's experiment to crack the code to baby talk. The toddlers must race against time for the sake of babies everywhere.\", 'Language': 'English', 'Country': 'Germany, UK, USA', 'Awards': '13 nominations.', 'Poster': 'https://images-na.ssl-images-amazon.com/images/M/MV5BNjY4NjM3MjQ2OF5BMl5BanBnXkFtZTcwOTc3NzYyMQ@@._V1_SX300.jpg', 'Ratings.Source': 'Internet Movie Database', 'Ratings.Value': '2.0/10', 'Metascore': '9', 'imdbRating': '2.0', 'imdbVotes': '26,376', 'imdbID': 'tt0270846', 'Type': 'movie', 'DVD': '04 Jan 2005', 'BoxOffice': '$9,016,422', 'Production': 'Sony', 'Website': 'http://www.sonypictures.com/movies/superbabiesbabygeniuses2/index.html', 'Response': 'True', 'tomatoURL': 'http://www.rottentomatoes.com/m/super_babies_baby_geniuses_2/'}\n"
          ]
        }
      ],
      "source": [
        "import csv\n",
        "\n",
        "# Open the file\n",
        "with open('imdb.csv', 'r') as f:\n",
        "  # Use the csv library to read the data\n",
        "  data = list(csv.reader(f))\n",
        "\n",
        "# `data` is now a list of lists.  We can get a particular movie from it by selecting one of the elements, say list 3:\n",
        "# print(data[3])\n",
        "\n",
        "# Since data[0] contains the column headers, we can use those to create a dictionary for this one movie where the keys are the column headers, and the values are the corresponding entries for that movie:\n",
        "movie = {}\n",
        "for n in range(len(data[0])):\n",
        "  movie[data[0][n]] = data[3][n]\n",
        "  headers = data[0]\n",
        "  moviedata = data[3]\n",
        "  key = headers[n]\n",
        "  value = moviedata[n]\n",
        "  movie[key] = value\n",
        "\n",
        "print(movie)"
      ]
    },
    {
      "cell_type": "markdown",
      "metadata": {},
      "source": [
        "Actually, why don't we just do that for all the movies.  Make a list of dictionaries, where each dictionary represents a single movie."
      ]
    },
    {
      "cell_type": "code",
      "execution_count": 4,
      "metadata": {},
      "outputs": [
        {
          "name": "stdout",
          "output_type": "stream",
          "text": [
            "[{'Title': 'Code Name: K.O.Z.', 'Year': '2015', 'Rated': 'NOT RATED', 'Released': '13 Feb 2015', 'Runtime': '114 min', 'Genre': 'Crime, Mystery', 'Director': 'Celal Çimen', 'Writer': 'N/A', 'Actors': 'Cem Kurtoglu, Hakan Ural, Hazim Körmükçü, Tolga Karel', 'Plot': 'A look at the 17-25 December 2013 corruption scandal in Turkey, from the viewpoint of the Erdogan government.', 'Language': 'Turkish', 'Country': 'Turkey', 'Awards': 'N/A', 'Poster': 'https://images-na.ssl-images-amazon.com/images/M/MV5BMDhkOTQzN2UtZDJhMi00ZTkzLWJmYjctNmE0MjdmZDlmYjJlXkEyXkFqcGdeQXVyNTQzNzQ5OTE@._V1_SX300.jpg', 'Ratings.Source': 'Internet Movie Database', 'Ratings.Value': '1.6/10', 'Metascore': 'N/A', 'imdbRating': '1.6', 'imdbVotes': '24,600', 'imdbID': 'tt4458206', 'Type': 'movie', 'DVD': 'N/A', 'BoxOffice': 'N/A', 'Production': 'N/A', 'Website': 'N/A', 'Response': 'True', 'tomatoURL': 'N/A'}, {'Title': 'Saving Christmas', 'Year': '2014', 'Rated': 'PG', 'Released': '14 Nov 2014', 'Runtime': '80 min', 'Genre': 'Comedy, Family', 'Director': 'Darren Doane', 'Writer': 'Darren Doane, Cheston Hervey', 'Actors': 'Kirk Cameron, Darren Doane, Bridgette Cameron, Ben Kientz', 'Plot': 'Kirk is enjoying the annual Christmas party extravaganza thrown by his sister until he realizes he needs to help out Christian, his brother-in-law, who has a bad case of the bah-humbugs. ...', 'Language': 'English', 'Country': 'USA', 'Awards': '4 wins & 2 nominations.', 'Poster': 'https://images-na.ssl-images-amazon.com/images/M/MV5BMTc3MTc3Njc5MV5BMl5BanBnXkFtZTgwNzU3NDE4MjE@._V1_SX300.jpg', 'Ratings.Source': 'Internet Movie Database', 'Ratings.Value': '1.6/10', 'Metascore': '18', 'imdbRating': '1.6', 'imdbVotes': '12,686', 'imdbID': 'tt4009460', 'Type': 'movie', 'DVD': '03 Nov 2015', 'BoxOffice': '$2,778,297', 'Production': 'IPD/Samuel Goldwyn Films', 'Website': 'http://www.savingchristmas.com/', 'Response': 'True', 'tomatoURL': 'http://www.rottentomatoes.com/m/kirk_camerons_saving_christmas/'}, {'Title': 'Superbabies: Baby Geniuses 2', 'Year': '2004', 'Rated': 'PG', 'Released': '27 Aug 2004', 'Runtime': '88 min', 'Genre': 'Comedy, Family, Sci-Fi', 'Director': 'Bob Clark', 'Writer': 'Steven Paul (story), Gregory Poppen (screenplay)', 'Actors': 'Jon Voight, Scott Baio, Vanessa Angel, Skyler Shaye', 'Plot': \"A group of smart-talking toddlers find themselves at the center of a media mogul's experiment to crack the code to baby talk. The toddlers must race against time for the sake of babies everywhere.\", 'Language': 'English', 'Country': 'Germany, UK, USA', 'Awards': '13 nominations.', 'Poster': 'https://images-na.ssl-images-amazon.com/images/M/MV5BNjY4NjM3MjQ2OF5BMl5BanBnXkFtZTcwOTc3NzYyMQ@@._V1_SX300.jpg', 'Ratings.Source': 'Internet Movie Database', 'Ratings.Value': '2.0/10', 'Metascore': '9', 'imdbRating': '2.0', 'imdbVotes': '26,376', 'imdbID': 'tt0270846', 'Type': 'movie', 'DVD': '04 Jan 2005', 'BoxOffice': '$9,016,422', 'Production': 'Sony', 'Website': 'http://www.sonypictures.com/movies/superbabiesbabygeniuses2/index.html', 'Response': 'True', 'tomatoURL': 'http://www.rottentomatoes.com/m/super_babies_baby_geniuses_2/'}, {'Title': 'Daniel der Zauberer', 'Year': '2004', 'Rated': 'NOT RATED', 'Released': '12 Aug 2004', 'Runtime': '81 min', 'Genre': 'Comedy, Crime, Fantasy', 'Director': 'Ulli Lommel', 'Writer': 'Ulli Lommel (screenplay)', 'Actors': 'Daniel Küblböck, Ulli Lommel, Rudolf Waldemar Brem, Katja Rupé', 'Plot': 'Evil assassins want to kill Daniel Kublbock, the third runner up for the German Idols.', 'Language': 'German', 'Country': 'Germany', 'Awards': 'N/A', 'Poster': 'https://images-na.ssl-images-amazon.com/images/M/MV5BMTI5OTM2MzAxM15BMl5BanBnXkFtZTcwNDA4MDMzMQ@@._V1_SX300.jpg', 'Ratings.Source': 'Internet Movie Database', 'Ratings.Value': '1.9/10', 'Metascore': 'N/A', 'imdbRating': '1.9', 'imdbVotes': '13,060', 'imdbID': 'tt0421051', 'Type': 'movie', 'DVD': 'N/A', 'BoxOffice': 'N/A', 'Production': 'N/A', 'Website': 'N/A', 'Response': 'True', 'tomatoURL': 'http://www.rottentomatoes.com/m/daniel_der_zauberer/'}, {'Title': 'Manos: The Hands of Fate', 'Year': '1966', 'Rated': 'NOT RATED', 'Released': '15 Nov 1966', 'Runtime': '70 min', 'Genre': 'Horror', 'Director': 'Harold P. Warren', 'Writer': 'Harold P. Warren (screenplay)', 'Actors': 'Tom Neyman, John Reynolds, Diane Adelson, Harold P. Warren', 'Plot': 'A family gets lost on the road and stumbles upon a hidden, underground, devil-worshiping cult led by the fearsome Master and his servant Torgo.', 'Language': 'English', 'Country': 'USA', 'Awards': 'N/A', 'Poster': 'https://images-na.ssl-images-amazon.com/images/M/MV5BNWUzNGExMGEtYzcwNS00OGY5LWE3NmItNDcxZTQ3YjljNmE2XkEyXkFqcGdeQXVyNTc4Njg5MjA@._V1_SX300.jpg', 'Ratings.Source': 'Internet Movie Database', 'Ratings.Value': '1.9/10', 'Metascore': 'N/A', 'imdbRating': '1.9', 'imdbVotes': '31,768', 'imdbID': 'tt0060666', 'Type': 'movie', 'DVD': '07 Oct 2003', 'BoxOffice': 'N/A', 'Production': 'Sinister Cinema', 'Website': 'N/A', 'Response': 'True', 'tomatoURL': 'http://www.rottentomatoes.com/m/manos-the-hands-of-fate/'}]\n"
          ]
        }
      ],
      "source": [
        "movieDL = []\n",
        "\n",
        "for x in range(1, len(data)):\n",
        "  movie = {}\n",
        "  for n in range(len(data[0])):\n",
        "    movie[data[0][n]] = data[x][n]\n",
        "  movieDL.append(movie)\n",
        "\n",
        "print(movieDL[:5])"
      ]
    },
    {
      "cell_type": "code",
      "execution_count": 8,
      "metadata": {},
      "outputs": [
        {
          "name": "stdout",
          "output_type": "stream",
          "text": [
            "5273\n",
            "The Hobbit: An Unexpected Journey\n"
          ]
        }
      ],
      "source": [
        "print(len(movieDL))\n",
        "print(movieDL[666][\"Title\"])"
      ]
    },
    {
      "cell_type": "code",
      "execution_count": 13,
      "metadata": {},
      "outputs": [
        {
          "name": "stdout",
          "output_type": "stream",
          "text": [
            "Harry Potter and the Deathly Hallows: Part 2 made $381,000,185\n",
            "Harry Potter and the Half-Blood Prince made $301,920,409\n",
            "Harry Potter and the Order of the Phoenix made $291,980,108\n",
            "Harry Potter and the Goblet of Fire made $289,994,397\n",
            "Harry Potter and the Prisoner of Azkaban made $249,358,727\n",
            "Harry Potter and the Deathly Hallows: Part II made N/A\n",
            "Harry Potter and the Sorcerer's Stone made $317,557,891\n",
            "Harry Potter and the Deathly Hallows: Part I made N/A\n",
            "Harry Potter and the Chamber of Secrets made $261,835,892\n"
          ]
        }
      ],
      "source": [
        "for movie in movieDL:\n",
        "  if \"Harry Potter\" in movie[\"Title\"]:\n",
        "    print(f\"{movie['Title']} made {movie['BoxOffice']}\")\n"
      ]
    },
    {
      "cell_type": "markdown",
      "metadata": {},
      "source": [
        "### Exploring the data\n",
        "\n",
        "We now have a nice data object to work with.  What can we do with it?  Here are some ideas:\n",
        "\n",
        "1. Pick your favorite movie.  Is it in the list?  What was it rated?\n",
        "2. How many Comedy/Sci-Fi movies were released in 2013?\n",
        "3. How many movies feature Nic Cage?  \n",
        "4. What about Cage and Kevin Bacon?\n",
        "5. Are there any movies about computer science?\n",
        "\n",
        "Answer some of the questions below.\n"
      ]
    },
    {
      "cell_type": "code",
      "execution_count": 23,
      "metadata": {},
      "outputs": [
        {
          "name": "stdout",
          "output_type": "stream",
          "text": [
            "Attack of the Jurassic Shark When an oil company unwittingly unleashes a prehistoric shark from its icy prison, the Jurassic killer maroons a group of thieves and beautiful young female college students on an abandoned...\n",
            "Devil Fish A marine biologist, a dolphin trainer, a research scientist, and a local sheriff try to hunt down a large sea monster, a shark/octopus hybrid, that is devouring swimmers and fishermen off a south Florida coast.\n",
            "Bait A freak tsunami traps shoppers at a coastal Australian supermarket inside the building - along with 12-foot Great White Sharks.\n",
            "Shark Night 3D A weekend at a lake house in the Louisiana Gulf turns into a nightmare for seven vacationers as they are subjected to shark attacks.\n",
            "Jaws: The Revenge Chief Brody's widow believes that her family is deliberately being targeted by another shark in search of revenge.\n",
            "Jaws 2 Police chief Brody must protect the citizens of Amity after a second monstrous shark begins terrorizing the waters.\n",
            "The Shallows A mere 200 yards from shore, surfer Nancy is attacked by a great white shark, with her short journey to safety becoming the ultimate contest of wills.\n",
            "The Reef A great white shark hunts the crew of a capsized sailboat along the Great Barrier Reef.\n",
            "Sharknado When a freak hurricane swamps Los Angeles, nature's deadliest killer rules sea, land, and air as thousands of sharks terrorize the waterlogged populace.\n",
            "9\n"
          ]
        }
      ],
      "source": [
        "counter = 0\n",
        "for movie in movieDL:\n",
        "  if \"horror\" in movie[\"Genre\"].lower() and \"shark\" in movie[\"Plot\"].lower():\n",
        "    print(movie[\"Title\"], movie[\"Plot\"])\n",
        "    counter += 1\n",
        "print(counter)"
      ]
    },
    {
      "cell_type": "markdown",
      "metadata": {},
      "source": [
        "### Sorting\n",
        "Another question you might ask: which movie on the list made the most money? How could we find this?\n",
        "\n",
        "- We could go through each movie and find it's earnings, and keep track of the largest one we have seen.\n",
        "- We could use the max() function\n",
        "- We could sort the movies by earnings\n",
        "\n",
        "Try one or more of these."
      ]
    },
    {
      "cell_type": "code",
      "execution_count": null,
      "metadata": {},
      "outputs": [],
      "source": []
    },
    {
      "cell_type": "markdown",
      "metadata": {},
      "source": [
        "Earnings don't necessarily have ties, but if we sorted by rating say, then there will be more than one movie with a top rating.  How could we further sort the movies?\n",
        "\n",
        "## Sorting with tuples\n",
        "\n",
        "Tuple sorting is really nice! See what happens when you run the code below."
      ]
    },
    {
      "cell_type": "code",
      "execution_count": null,
      "metadata": {},
      "outputs": [],
      "source": [
        "tupleList = [('abc',3,'1'),('a',1,'10'),('a', 2,'9'),('a', 1,'9'),('abc',30,'0')]\n",
        "tupleList.sort()\n",
        "print(tupleList)"
      ]
    },
    {
      "cell_type": "markdown",
      "metadata": {},
      "source": [
        "Now let's use tuples to sort the list of movie dictionaries.  Let's create a function that takes in a movie (dictionary) and returns a sorting \"score\" in the form of a tuple.  Then sort the list of dictionaries using these tuples as the key."
      ]
    },
    {
      "cell_type": "code",
      "execution_count": null,
      "metadata": {},
      "outputs": [],
      "source": []
    }
  ],
  "metadata": {
    "colab": {
      "include_colab_link": true,
      "provenance": []
    },
    "kernelspec": {
      "display_name": "Python 3",
      "name": "python3"
    },
    "language_info": {
      "codemirror_mode": {
        "name": "ipython",
        "version": 3
      },
      "file_extension": ".py",
      "mimetype": "text/x-python",
      "name": "python",
      "nbconvert_exporter": "python",
      "pygments_lexer": "ipython3",
      "version": "3.10.8"
    }
  },
  "nbformat": 4,
  "nbformat_minor": 0
}
