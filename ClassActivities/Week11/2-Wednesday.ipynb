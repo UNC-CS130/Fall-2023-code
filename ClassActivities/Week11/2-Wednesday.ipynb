{
  "cells": [
    {
      "cell_type": "markdown",
      "metadata": {},
      "source": [
        "# Wednesday, November 1\n",
        "\n",
        "## Announcements and Reminders\n",
        "\n",
        "- Next Project Check-in: Friday\n",
        "- Programming Assignment 5: Next Friday (but start NOW)\n"
      ]
    },
    {
      "cell_type": "markdown",
      "metadata": {},
      "source": [
        "## Activity: Sorting a Database... with tuples!\n",
        "\n",
        "Let's ***finish our*** movie database project by implementing a sorting feature.  \n",
        "\n",
        "Last time we saw how python compares tuples: first comparing the elements in position 1, then if their is a tie, comparing position 2, and so on.  If we have *list* of tuples, then we can use the `.sort()` method on that list to reorder the list so that each tuple is less than the next one.\n",
        "\n",
        "We also know that from a dictionary we can extract a list of tuples.  The question is how do we connect these."
      ]
    },
    {
      "cell_type": "markdown",
      "metadata": {},
      "source": [
        "Let's start by once again loading our movie database:"
      ]
    },
    {
      "cell_type": "code",
      "execution_count": 13,
      "metadata": {},
      "outputs": [
        {
          "name": "stdout",
          "output_type": "stream",
          "text": [
            "{'Title': 'Halloween 5', 'Year': '1989', 'Rated': 'R', 'Released': '13 Oct 1989', 'Runtime': '96 min', 'Genre': 'Horror, Thriller', 'Director': 'Dominique Othenin-Girard', 'Writer': 'John Carpenter (characters), Debra Hill (characters), Michael Jacobs, Dominique Othenin-Girard, Shem Bitterman', 'Actors': 'Donald Pleasence, Danielle Harris, Ellie Cornell, Beau Starr', 'Plot': 'One year after the events of Halloween 4: The Return of Michael Myers (1988), the Shape returns to Haddonfield once again in an attempt to kill his now-mute niece.', 'Language': 'English', 'Country': 'USA', 'Awards': 'N/A', 'Poster': 'https://images-na.ssl-images-amazon.com/images/M/MV5BZWE2YTU2ZjMtZjRjOS00NjQ3LWIyYzItMTk2N2YxMjY1ZGRiXkEyXkFqcGdeQXVyMTQxNzMzNDI@._V1_SX300.jpg', 'Ratings.Source': 'Internet Movie Database', 'Ratings.Value': '5.2/10', 'Metascore': '31', 'imdbRating': '5.2', 'imdbVotes': '24,676', 'imdbID': 'tt0097474', 'Type': 'movie', 'DVD': '05 Sep 2000', 'BoxOffice': 'N/A', 'Production': 'Trancas International Films Inc.', 'Website': 'N/A', 'Response': 'True', 'tomatoURL': 'http://www.rottentomatoes.com/m/halloween_5_the_revenge_of_michael_myers/'}\n"
          ]
        }
      ],
      "source": [
        "import csv\n",
        "\n",
        "# Open the file\n",
        "with open('../Week10/imdb.csv', 'r') as f:\n",
        "  # Use the csv library to read the data\n",
        "  data = list(csv.reader(f))\n",
        "\n",
        "# create a list of dictionaries, where each dictionary is a single movie\n",
        "moviedb = []\n",
        "for row in range(1,len(data)):\n",
        "  movie = {}\n",
        "  for col in range(len(data[0])):\n",
        "    movie[data[0][col]] = data[row][col]\n",
        "  moviedb.append(movie)\n",
        "\n",
        "# print one movie to see an example\n",
        "print(moviedb[3977])"
      ]
    },
    {
      "cell_type": "markdown",
      "metadata": {},
      "source": [
        "Let's decide on how we want to sort the movies.  What is most important?  What is next most important?\n",
        "\n",
        "Sort first by year (most recent first)\n",
        "\n",
        "second by imdbRating (better movies first)\n",
        "\n",
        "last, alphabetically by title.\n",
        "\n",
        "\n",
        "For each movie, we want to create a tuple with these *values* in order."
      ]
    },
    {
      "cell_type": "code",
      "execution_count": null,
      "metadata": {},
      "outputs": [],
      "source": [
        "# mdata = (1989, 5.2, \"Halloween 5\")\n",
        "# mdata = (int(moviedb[3977][\"Year\"]),float(moviedb[3977][\"imdbRating\"]),moviedb[3977][\"Title\"])\n",
        "# print(mdata)\n",
        "\n",
        "\n",
        "movieTL = []\n",
        "# loop over each dictionary in moviedb, create a tuple for it, and append the tuple to movieTL\n",
        "for movie in moviedb:\n",
        "  mdata = (\n",
        "    int(movie[\"Year\"]),\n",
        "    float(movie[\"imdbRating\"]),\n",
        "    movie[\"Title\"]\n",
        "    )\n",
        "  movieTL.append(mdata)\n",
        "\n",
        "movieTL.sort(reverse=True)\n",
        "print(movieTL)\n"
      ]
    },
    {
      "cell_type": "markdown",
      "metadata": {},
      "source": [
        "We can create a list of all the tuples, and use python to sort that list.  But how do we get the original movie database to be sorted the same way?\n",
        "\n",
        "The idea is to use our tuples as a **key** to do the sorting of the original list of dictionaries."
      ]
    },
    {
      "cell_type": "code",
      "execution_count": 15,
      "metadata": {},
      "outputs": [
        {
          "name": "stdout",
          "output_type": "stream",
          "text": [
            "The movie Rings, released in 2017, had a rating of 4.5. It was directed by F. Javier Gutiérrez.\n",
            "The movie Once Upon a Time in Venice, released in 2017, had a rating of 5.4. It was directed by Mark Cullen.\n",
            "The movie Wilson, released in 2017, had a rating of 5.8. It was directed by Craig Johnson.\n",
            "The movie The Mummy, released in 2017, had a rating of 5.9. It was directed by Alex Kurtzman.\n",
            "The movie Bitter Harvest, released in 2017, had a rating of 6.1. It was directed by George Mendeluk.\n",
            "The movie Song to Song, released in 2017, had a rating of 6.5. It was directed by Terrence Malick.\n",
            "The movie Kaabil, released in 2017, had a rating of 7.2. It was directed by Sanjay Gupta.\n",
            "The movie King Arthur: Legend of the Sword, released in 2017, had a rating of 7.3. It was directed by Guy Ritchie.\n",
            "The movie Jolly LLB 2, released in 2017, had a rating of 7.4. It was directed by Subhash Kapoor.\n",
            "The movie T2 Trainspotting, released in 2017, had a rating of 7.4. It was directed by Danny Boyle.\n"
          ]
        }
      ],
      "source": [
        "def score(movie):\n",
        "  mdata = (\n",
        "    2023-int(movie[\"Year\"]),\n",
        "    10-float(movie[\"imdbRating\"]),\n",
        "    movie[\"Title\"]\n",
        "    )\n",
        "  return mdata\n",
        "\n",
        "# moviedb.sort(key=score)\n",
        "moviedb.sort(key=lambda x:(2023-int(x[\"Year\"]),float(x[\"imdbRating\"])))\n",
        "\n",
        "\n",
        "# print(moviedb)\n",
        "for n in range(10):\n",
        "  print(f\"The movie {moviedb[n]['Title']}, released in {moviedb[n]['Year']}, had a rating of {moviedb[n]['imdbRating']}. It was directed by {moviedb[n]['Director']}.\")"
      ]
    }
  ],
  "metadata": {
    "colab": {
      "include_colab_link": true,
      "provenance": []
    },
    "kernelspec": {
      "display_name": "Python 3",
      "name": "python3"
    },
    "language_info": {
      "codemirror_mode": {
        "name": "ipython",
        "version": 3
      },
      "file_extension": ".py",
      "mimetype": "text/x-python",
      "name": "python",
      "nbconvert_exporter": "python",
      "pygments_lexer": "ipython3",
      "version": "3.10.8"
    }
  },
  "nbformat": 4,
  "nbformat_minor": 0
}
