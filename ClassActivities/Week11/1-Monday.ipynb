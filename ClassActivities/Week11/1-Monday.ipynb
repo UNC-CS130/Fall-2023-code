{
  "cells": [
    {
      "cell_type": "markdown",
      "metadata": {},
      "source": [
        "# Monday, October 30\n",
        "\n",
        "## Announcements and Reminders\n",
        "\n",
        "- Read Chapter 11 (due Wednesday)\n",
        "- Next Project Check-in: Friday\n",
        "- Programming Assignment 5: Next Friday (but start NOW)\n"
      ]
    },
    {
      "cell_type": "markdown",
      "metadata": {},
      "source": [
        "## Activity: Sorting a Database\n",
        "\n",
        "Let's continue with our movie database project.  The code below will read in the `csv` file, create a giant list of dictionaries, where each one is a movie.  We will call this list `moviedb`."
      ]
    },
    {
      "cell_type": "code",
      "execution_count": null,
      "metadata": {},
      "outputs": [],
      "source": [
        "import csv\n",
        "\n",
        "# Open the file\n",
        "with open('../Week10/imdb.csv', 'r') as f:\n",
        "  # Use the csv library to read the data\n",
        "  data = list(csv.reader(f))\n",
        "\n",
        "# Since data[0] contains the column headers, we can use those to create a dictionary for each movie where the keys are the column headers, and the values are the corresponding entries for that movie.  Then add each movie to the list `moviedb`\n",
        "moviedb = []\n",
        "for row in range(1,len(data)):\n",
        "  movie = {}\n",
        "  for col in range(len(data[0])):\n",
        "    movie[data[0][col]] = data[row][col]\n",
        "\n",
        "  moviedb.append(movie)"
      ]
    },
    {
      "cell_type": "markdown",
      "metadata": {},
      "source": [
        "Print out a few individual movies:"
      ]
    },
    {
      "cell_type": "code",
      "execution_count": null,
      "metadata": {},
      "outputs": [],
      "source": [
        "print(moviedb[2])\n",
        "print(moviedb[-17])\n",
        "print(len(moviedb))"
      ]
    },
    {
      "cell_type": "markdown",
      "metadata": {},
      "source": [
        "### Database operations\n",
        "\n",
        "Now we have this database; what can we do with it?  There are three natural operations: **filtering**, **sorting**, and **searching**\n",
        "\n",
        "#### Searching\n",
        "\n",
        "This is the easiest of the operations, at least if we don't care about speed.  How do we know if our database contains a movie with the word \"chess\" in the title?  Just look at each movie until you find one that has it.\n"
      ]
    },
    {
      "cell_type": "code",
      "execution_count": null,
      "metadata": {},
      "outputs": [],
      "source": [
        "for movie in moviedb:\n",
        "  if \"magic\" in movie['Title'].lower():\n",
        "    print(movie['Title'])\n"
      ]
    },
    {
      "cell_type": "markdown",
      "metadata": {},
      "source": [
        "#### Filtering\n",
        "\n",
        "What if we want to limit our movies to just the horror-comedies?  This is basically just search, but instead of just finding the first one, we will collect all the \"winners\" in a new list.  Try it:"
      ]
    },
    {
      "cell_type": "code",
      "execution_count": null,
      "metadata": {},
      "outputs": [],
      "source": [
        "filtered = []\n",
        "\n",
        "for movie in moviedb:\n",
        "  if \"horror\" in movie['Genre'].lower() and \"comedy\" in movie['Genre'].lower():\n",
        "    filtered.append(movie)\n",
        "    # print(movie[\"Title\"], movie[\"Genre\"])\n",
        "\n",
        "# print(filtered)\n",
        "\n",
        "good = []\n",
        "\n",
        "for movie in filtered:\n",
        "  if float(movie[\"imdbRating\"]) >= 5:\n",
        "    good.append(movie)\n",
        "    # print(f\"{movie['Title']} has a rating of {movie['imdbRating']}\")\n",
        "\n",
        "better = [movie for movie in filtered if float(movie[\"imdbRating\"]) >= 7]\n",
        "\n",
        "print(better)\n",
        "# print(good)"
      ]
    },
    {
      "cell_type": "markdown",
      "metadata": {},
      "source": [
        "#### Sorting\n",
        "What were the top 10 highest earning films on the list?  Or better yet, can we sort the entire database of movies by box office numbers?  \n",
        "\n",
        "For now, let's use the `.sort()` method for lists.  Later, we will consider what is really going on with sorting."
      ]
    },
    {
      "cell_type": "code",
      "execution_count": 14,
      "metadata": {},
      "outputs": [
        {
          "ename": "TypeError",
          "evalue": "'<' not supported between instances of 'dict' and 'dict'",
          "output_type": "error",
          "traceback": [
            "\u001b[0;31m---------------------------------------------------------------------------\u001b[0m",
            "\u001b[0;31mTypeError\u001b[0m                                 Traceback (most recent call last)",
            "\u001b[1;32m/workspaces/Fall-2023-files/ClassActivities/Week11/1-Monday.ipynb Cell 11\u001b[0m line \u001b[0;36m3\n\u001b[1;32m      <a href='vscode-notebook-cell://codespaces%2Breimagined-invention-gpgwpjq4rxfvr6w/workspaces/Fall-2023-files/ClassActivities/Week11/1-Monday.ipynb#X13sdnNjb2RlLXJlbW90ZQ%3D%3D?line=0'>1</a>\u001b[0m sorteddb \u001b[39m=\u001b[39m moviedb\u001b[39m.\u001b[39mcopy()\n\u001b[0;32m----> <a href='vscode-notebook-cell://codespaces%2Breimagined-invention-gpgwpjq4rxfvr6w/workspaces/Fall-2023-files/ClassActivities/Week11/1-Monday.ipynb#X13sdnNjb2RlLXJlbW90ZQ%3D%3D?line=2'>3</a>\u001b[0m sorteddb\u001b[39m.\u001b[39;49msort()\n\u001b[1;32m      <a href='vscode-notebook-cell://codespaces%2Breimagined-invention-gpgwpjq4rxfvr6w/workspaces/Fall-2023-files/ClassActivities/Week11/1-Monday.ipynb#X13sdnNjb2RlLXJlbW90ZQ%3D%3D?line=3'>4</a>\u001b[0m \u001b[39mprint\u001b[39m(sorteddb[:\u001b[39m5\u001b[39m])\n",
            "\u001b[0;31mTypeError\u001b[0m: '<' not supported between instances of 'dict' and 'dict'"
          ]
        }
      ],
      "source": [
        "sorteddb = moviedb.copy()\n",
        "\n",
        "sorteddb.sort()\n",
        "print(sorteddb[:5])"
      ]
    },
    {
      "cell_type": "markdown",
      "metadata": {},
      "source": [
        "hmm... that doesn't work.  So what can we do?  What can we sort?\n",
        "\n",
        "What does sorting even mean???  Let's first do an example by hand.\n",
        "\n",
        "In the cell below, think how you would sort the list of numbers:"
      ]
    },
    {
      "cell_type": "code",
      "execution_count": null,
      "metadata": {},
      "outputs": [],
      "source": [
        "5, 8, 3, 19, 12, 0, 100, 2.999, 1.980, 1.899\n",
        "\n",
        "sorted:\n",
        "0, 2.999, 3, 5, 8, 12, 19, 100\n"
      ]
    },
    {
      "cell_type": "markdown",
      "metadata": {},
      "source": [
        "What else can we sort?  \n",
        "\n",
        "`int`: yes, regular `<`\n",
        "\n",
        "`float`: yes, regular `<`\n",
        "\n",
        "`bool`: yes, `False < True`\n",
        "\n",
        "`str`:\n",
        "\n",
        "`list`:\n",
        "\n",
        "`dict`:\n",
        "\n",
        "`tuple`:\n",
        "\n",
        "`set`:\n",
        "\n",
        "Try these out to determine whether they sort, and if so, in what way."
      ]
    },
    {
      "cell_type": "code",
      "execution_count": 36,
      "metadata": {},
      "outputs": [
        {
          "name": "stdout",
          "output_type": "stream",
          "text": [
            "True\n",
            "['Cheery', 'a', 'a watermelon', 'apple', 'apricot', 'banana']\n"
          ]
        }
      ],
      "source": [
        "print((1,2,3,6) < (1,5))\n",
        "lst = [ \"apricot\",'apple', \"a\", 'banana', 'Cheery', 'a watermelon']\n",
        "lst.sort()\n",
        "print(lst)"
      ]
    },
    {
      "cell_type": "markdown",
      "metadata": {},
      "source": [
        "### Breaking Ties\n",
        "\n",
        "It should be pretty clear how to sort numbers (be they integers or floats).  What about more complicated types, like strings and tuples?  \n",
        "\n",
        "For example, who \"wins\" between Alexander and Alexis?  Try it!"
      ]
    },
    {
      "cell_type": "code",
      "execution_count": null,
      "metadata": {},
      "outputs": [],
      "source": []
    },
    {
      "cell_type": "markdown",
      "metadata": {},
      "source": [
        "Tuples will turn out to be very useful for sorting.  Look at how the following list of tuples gets sorted."
      ]
    },
    {
      "cell_type": "code",
      "execution_count": 37,
      "metadata": {},
      "outputs": [
        {
          "name": "stdout",
          "output_type": "stream",
          "text": [
            "[('a', 1, '10'), ('a', 1, '9'), ('a', 2, '9'), ('abc', 3, '1'), ('abc', 30, '0')]\n"
          ]
        }
      ],
      "source": [
        "tupleList = [('abc',3,'1'),('a',1,'10'),('a', 2,'9'),('a', 1,'9'),('abc',30,'0')]\n",
        "tupleList.sort()\n",
        "print(tupleList)"
      ]
    },
    {
      "cell_type": "markdown",
      "metadata": {},
      "source": [
        "What is going on here?  Explain how ties are broken"
      ]
    }
  ],
  "metadata": {
    "colab": {
      "include_colab_link": true,
      "provenance": []
    },
    "kernelspec": {
      "display_name": "Python 3",
      "name": "python3"
    },
    "language_info": {
      "codemirror_mode": {
        "name": "ipython",
        "version": 3
      },
      "file_extension": ".py",
      "mimetype": "text/x-python",
      "name": "python",
      "nbconvert_exporter": "python",
      "pygments_lexer": "ipython3",
      "version": "3.10.8"
    }
  },
  "nbformat": 4,
  "nbformat_minor": 0
}
