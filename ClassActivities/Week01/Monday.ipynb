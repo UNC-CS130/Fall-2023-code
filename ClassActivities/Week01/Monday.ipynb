{
 "cells": [
  {
   "cell_type": "markdown",
   "metadata": {},
   "source": [
    "# Class Activity: Monday, August 21, 2023\n",
    "\n",
    "## Welcome to CS 130: Fundamentals of Computer Science.\n",
    "\n",
    "### What is this?\n",
    "\n",
    "Most days we will have a class activity notebook for us to work from in small groups and a class.  This is the first example of such a notebook.  \n",
    "\n",
    "Note that the extension on the filename is `ipynb`; we call this sort of file a **Jupyter Notebook** or **IPython Notebook**.  It is a file that lets you write instructions in **Markdown** (a very simply markup language for writing text) and include python code that can be executed directly inside the file (it connects to a python *kernel* to execute the code, but that is done behind the scenes).\n",
    "\n",
    "The text you are reading right now is written in that markdown syntax.  If you double click on this text, you can see what the markup looks like.  Hit `CTRL+ENTER` and you will get the nice presentation again.\n",
    "\n",
    "Below is a python cell.  If you click on it and hit `CTRL+ENTER` it will execute the code.  You can also hit the triangle to the left of the cell to execute it.  Try that now."
   ]
  },
  {
   "cell_type": "code",
   "execution_count": 1,
   "metadata": {},
   "outputs": [
    {
     "name": "stdout",
     "output_type": "stream",
     "text": [
      "Hello World!\n"
     ]
    }
   ],
   "source": [
    "print(\"Hello World!\")"
   ]
  },
  {
   "cell_type": "markdown",
   "metadata": {},
   "source": [
    "## Plan for today\n",
    "\n",
    "1. Get set up with Runestone (textbook) and Github (activities and homework)\n",
    "2. Think about: what is Computer Science?\n",
    "\n",
    "### Access the textbook\n",
    "- Go to Canvas, log in, go to CS 130\n",
    "- Scroll down to \"Important Links\" and click on \"Course Textbook\"\n",
    "- Unless you already have a Runestone account, go to \"Sign Up\".\n",
    "- Create an account.  Use your Canvas username as your Runestone username.\n",
    "- You will be asked to register for a course.  Use the course name \"CS130F23\" (without any quotes).\n",
    "- Back in Canvas, go to the first \"Active Reading Assignment\" and click the link to load the assignment in a new window.\n",
    "- This is how you need to access all Runestone assignments: through Canvas, by clicking the link.\n",
    "\n",
    "### Access Github\n",
    "- From Canvas, click the \"Github Repository\" link.\n",
    "- Sign in or up for a Github account.\n",
    "- Follow the directions on the README for forking and starting a codespace.\n",
    "- Back in Canvas, go to the Github Fundamentals assignment and click the link in the assignment description."
   ]
  },
  {
   "cell_type": "markdown",
   "metadata": {},
   "source": [
    "## What is Computer Science?\n",
    "\n",
    "- Data\n",
    "- Algorithms\n",
    "- Problem Solving\n",
    "- Abstraction\n",
    "- Creativity\n",
    "- Programming"
   ]
  },
  {
   "attachments": {
    "picobotExCr.png": {
     "image/png": "[encoded data removed]"
    }
   },
   "cell_type": "markdown",
   "metadata": {},
   "source": [
    "### An Example: PicoBot\n",
    "\n",
    "How can your roomba vacuum all of your carpet?\n",
    "\n",
    "![picobotExCr.png](attachment:picobotExCr.png)"
   ]
  },
  {
   "cell_type": "markdown",
   "metadata": {},
   "source": [
    "#### Picobot Assumptions\n",
    "- Each square on our grid can be described by what is around it.  \n",
    "- In the four directions NEWS (North, East, West, South) we can either have an `x` (for open) or the corresponding letter for the direction (for a wall).\n",
    "- For example, `xExS` means that there is a wall to the east and south, but open floor to the north and west.\n",
    "- How can we tell the Picobot what to do??\n",
    "\n",
    "After thinking about this a bit, go here: https://www.cs.hmc.edu/picobot/"
   ]
  }
 ],
 "metadata": {
  "kernelspec": {
   "display_name": "Python 3",
   "language": "python",
   "name": "python3"
  },
  "language_info": {
   "codemirror_mode": {
    "name": "ipython",
    "version": 3
   },
   "file_extension": ".py",
   "mimetype": "text/x-python",
   "name": "python",
   "nbconvert_exporter": "python",
   "pygments_lexer": "ipython3",
   "version": "3.10.8"
  },
  "orig_nbformat": 4
 },
 "nbformat": 4,
 "nbformat_minor": 2
}
