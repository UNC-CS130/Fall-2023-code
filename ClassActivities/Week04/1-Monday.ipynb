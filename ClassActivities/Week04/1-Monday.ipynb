{
  "cells": [
    {
      "cell_type": "markdown",
      "metadata": {},
      "source": [
        "# Monday, September 11\n",
        "## Announcements and Reminders\n",
        "- Chapter 5 Reading due today, but definitely by Wednesday\n",
        "- Programming Assignment 2: Available NOW, due next Monday\n",
        "\n",
        "## Questions:"
      ]
    },
    {
      "cell_type": "markdown",
      "metadata": {},
      "source": []
    },
    {
      "cell_type": "markdown",
      "metadata": {
        "id": "rPcP5eWXAO1Y"
      },
      "source": [
        "## Activity: Turtles, Geometry, and Fractals\n",
        "\n",
        "We will continue using the python turtle to get visual feedback on how functions work.\n",
        "\n",
        "Our goal for today is to produce shapes like the following, without writing hundreds of lines of code.\n"
      ]
    },
    {
      "cell_type": "markdown",
      "metadata": {},
      "source": [
        "<!-- ![Spiral](spiral.png) -->\n",
        "<div>\n",
        "<img src=\"spiral.png\" width=\"800\"/>\n",
        "</div>"
      ]
    },
    {
      "cell_type": "markdown",
      "metadata": {
        "id": "u4mMqfI6ueCr"
      },
      "source": [
        "**Important**: I have found a better turtle module called `ColabTurtlePlus` that is easer to use than the `ipyturtle3` we were using last time.  \n",
        "\n",
        "Before you start executing any code, run the following command in the terminal:\n",
        "\n",
        "`pip install ColabTurtlePlus`\n",
        "\n",
        "Or, just execute the following cell in the notebook:"
      ]
    },
    {
      "cell_type": "code",
      "execution_count": 4,
      "metadata": {},
      "outputs": [
        {
          "name": "stdout",
          "output_type": "stream",
          "text": [
            "Requirement already satisfied: ColabTurtlePlus in /usr/local/python/3.10.8/lib/python3.10/site-packages (2.0.1)\n"
          ]
        }
      ],
      "source": [
        "!pip install ColabTurtlePlus"
      ]
    },
    {
      "cell_type": "markdown",
      "metadata": {},
      "source": [
        "We will create a turtle and screen to use throughout the activity.  Let's call our turtle \"Tracy\" this time.  Because clearly that is the best name for a turtle.  \n"
      ]
    },
    {
      "cell_type": "code",
      "execution_count": 5,
      "metadata": {},
      "outputs": [
        {
          "data": {
            "text/html": [
              "\n",
              "      <svg width=\"800\" height=\"600\">  \n",
              "        <rect width=\"100%\" height=\"100%\" style=\"fill:rgb(10,0,40);stroke:;stroke-width:1\"/>\n",
              "        \n",
              "        \n",
              "        \n",
              "        \n",
              "        \n",
              "        <g id=\"turtle\" visibility=\"visible\" transform=\"rotate(90,400.0,300.0) translate(400.0, 300.0)\">\n",
              "<path style=\"stroke:orange;fill-rule:evenodd;fill:orange;fill-opacity:1;\" transform=\"skewX(0) scale(1,1)\" d=\"m 1.1536693,-18.56101 c -2.105469,1.167969 -3.203125,3.441407 -3.140625,6.5 l 0.011719,0.519532 -0.300782,-0.15625 c -1.308594,-0.671875 -2.828125,-0.824219 -4.378906,-0.429688 -1.9375,0.484375 -3.8906253,2.089844 -6.0117193,4.9257825 -1.332031,1.785156 -1.714843,2.644531 -1.351562,3.035156 l 0.113281,0.125 h 0.363281 c 0.71875,0 1.308594,-0.265625 4.6679693,-2.113282 1.199219,-0.660156 2.183594,-1.199218 2.191406,-1.199218 0.00781,0 -0.023437,0.089844 -0.074218,0.195312 -0.472657,1.058594 -1.046876,2.785156 -1.335938,4.042969 -1.054688,4.574219 -0.351562,8.453125 2.101562,11.582031 0.28125,0.355469 0.292969,0.253906 -0.097656,0.722656 -2.046875,2.4609375 -3.027344,4.8984375 -2.734375,6.8046875 0.050781,0.339844 0.042969,0.335938 0.679688,0.335938 2.023437,0 4.15625,-1.316407 6.21875,-3.835938 0.222656,-0.269531 0.191406,-0.261719 0.425781,-0.113281 0.730469,0.46875 2.460938,1.390625 2.613281,1.390625 0.160157,0 1.765625,-0.753906 2.652344,-1.246094 0.167969,-0.09375 0.308594,-0.164062 0.308594,-0.160156 0.066406,0.105468 0.761719,0.855468 1.085937,1.171875 1.613282,1.570312 3.339844,2.402343 5.3593747,2.570312 0.324219,0.02734 0.355469,0.0078 0.425781,-0.316406 0.375,-1.742187 -0.382812,-4.058594 -2.1445307,-6.5585935 l -0.320312,-0.457031 0.15625,-0.183594 c 3.2460927,-3.824218 3.4335927,-9.08593704 0.558593,-15.816406 l -0.050781,-0.125 1.7382807,0.859375 c 3.585938,1.773437 4.371094,2.097656 5.085938,2.097656 0.945312,0 0.75,-0.863281 -0.558594,-2.507812 C 11.458356,-11.838353 8.3333563,-13.268041 4.8607003,-11.721166 l -0.363281,0.164063 0.019531,-0.09375 c 0.121094,-0.550781 0.183594,-1.800781 0.121094,-2.378907 -0.203125,-1.867187 -1.035157,-3.199218 -2.695313,-4.308593 -0.523437,-0.351563 -0.546875,-0.355469 -0.789062,-0.222657\" />\n",
              "</g>\n",
              "      </svg>\n",
              "    "
            ],
            "text/plain": [
              "<IPython.core.display.HTML object>"
            ]
          },
          "metadata": {},
          "output_type": "display_data"
        }
      ],
      "source": [
        "from ColabTurtlePlus.Turtle import *\n",
        "# Every time we want to have a new screen, we will use the following commands to create a new screen and a new turtle object:\n",
        "# Name the screen and turtle objects:\n",
        "clearscreen()\n",
        "Sandbox = Screen()\n",
        "Tracy = Turtle()\n",
        "# Set properties for Sandbox and Tracy\n",
        "Sandbox.bgcolor(10, 0, 40)\n",
        "Tracy.shape(\"turtle\")\n",
        "Tracy.color(\"orange\")"
      ]
    },
    {
      "cell_type": "markdown",
      "metadata": {},
      "source": [
        "Now let's draw a square.  First, the slow way:"
      ]
    },
    {
      "cell_type": "code",
      "execution_count": null,
      "metadata": {},
      "outputs": [],
      "source": [
        "### SETUP ###\n",
        "clearscreen()\n",
        "Sandbox = Screen()\n",
        "Tracy = Turtle()\n",
        "Sandbox.bgcolor(10, 0, 40)\n",
        "Tracy.shape(\"turtle\")\n",
        "Tracy.color(\"orange\")\n",
        "### END SETUP ###\n",
        "\n",
        "def walk_turn():\n",
        "  Tracy.forward(100)\n",
        "  Tracy.left(90)\n",
        "  print(Tracy.position())\n",
        "  if Tracy.position() != (0.0, 0.0):\n",
        "    walk_turn()\n",
        "\n",
        "walk_turn()\n"
      ]
    },
    {
      "cell_type": "markdown",
      "metadata": {},
      "source": [
        "Now try to modify the code above to draw the square using a function to avoid repeating as many identical lines of code.  Maybe define a function that combines the forward and turn steps.\n",
        "\n",
        "**Note**: If you know what they are, you might be tempted to use *loops* to make this simpler.  Hold that thought.  The goal of this activity is to use functions instead of loops."
      ]
    },
    {
      "cell_type": "markdown",
      "metadata": {},
      "source": [
        "### Recursion to the rescue\n",
        "\n",
        "Can we do even better?  A function tells Tracy what to do.  Can the function tell Tracy what to do next as well?  Try telling Tracy to walk, turn, and repeat."
      ]
    },
    {
      "cell_type": "code",
      "execution_count": null,
      "metadata": {},
      "outputs": [],
      "source": [
        "### SETUP ###\n",
        "clearscreen()\n",
        "Sandbox = Screen()\n",
        "Tracy = Turtle()\n",
        "Sandbox.bgcolor(10, 20, 0)\n",
        "Tracy.shape(\"turtle\")\n",
        "Tracy.color(\"orange\")\n",
        "### END SETUP ###\n",
        "\n",
        "def walk_turn(dist, ang):\n",
        "  Tracy.forward(dist)\n",
        "  Tracy.left(ang)\n",
        "  if Tracy.position() != (0.0, 0.0):\n",
        "    walk_turn(dist-5, ang)\n",
        "  #Fill in the function\n",
        "\n",
        "#Call the function\n",
        "walk_turn(150,90)"
      ]
    },
    {
      "cell_type": "markdown",
      "metadata": {},
      "source": [
        "### Polygons\n",
        "\n",
        "The code above should be able to draw shapes other than squares.  How could you tell it to draw an octagon?\n",
        "\n",
        "Actually, why don't we just write a function `polygon(sides, size)` that draws a polygon with `sides` sides each of size `size`:"
      ]
    },
    {
      "cell_type": "code",
      "execution_count": 7,
      "metadata": {},
      "outputs": [
        {
          "data": {
            "text/html": [
              "\n",
              "      <svg width=\"800\" height=\"600\">  \n",
              "        <rect width=\"100%\" height=\"100%\" style=\"fill:rgb(10,20,20);stroke:;stroke-width:1\"/>\n",
              "        \n",
              "        \n",
              "        <line x1=\"400.0\" y1=\"300.0\" x2=\"410.0\" y2=\"300.0\" stroke-linecap=\"round\" style=\"stroke:orange;stroke-width:1\" /><line x1=\"410.0\" y1=\"300.0\" x2=\"422.135\" y2=\"291.183\" stroke-linecap=\"round\" style=\"stroke:orange;stroke-width:1\" /><line x1=\"422.135\" y1=\"291.183\" x2=\"428.315\" y2=\"272.162\" stroke-linecap=\"round\" style=\"stroke:orange;stroke-width:1\" /><line x1=\"428.315\" y1=\"272.162\" x2=\"420.59\" y2=\"248.386\" stroke-linecap=\"round\" style=\"stroke:orange;stroke-width:1\" /><line x1=\"420.59\" y1=\"248.386\" x2=\"396.319\" y2=\"230.752\" stroke-linecap=\"round\" style=\"stroke:orange;stroke-width:1\" /><line x1=\"396.319\" y1=\"230.752\" x2=\"361.319\" y2=\"230.752\" stroke-linecap=\"round\" style=\"stroke:orange;stroke-width:1\" /><line x1=\"361.319\" y1=\"230.752\" x2=\"328.958\" y2=\"254.263\" stroke-linecap=\"round\" style=\"stroke:orange;stroke-width:1\" /><line x1=\"328.958\" y1=\"254.263\" x2=\"315.052\" y2=\"297.061\" stroke-linecap=\"round\" style=\"stroke:orange;stroke-width:1\" /><line x1=\"315.052\" y1=\"297.061\" x2=\"330.503\" y2=\"344.614\" stroke-linecap=\"round\" style=\"stroke:orange;stroke-width:1\" /><line x1=\"330.503\" y1=\"344.614\" x2=\"374.999\" y2=\"376.942\" stroke-linecap=\"round\" style=\"stroke:orange;stroke-width:1\" /><line x1=\"374.999\" y1=\"376.942\" x2=\"434.999\" y2=\"376.942\" stroke-linecap=\"round\" style=\"stroke:orange;stroke-width:1\" /><line x1=\"434.999\" y1=\"376.942\" x2=\"487.585\" y2=\"338.736\" stroke-linecap=\"round\" style=\"stroke:orange;stroke-width:1\" /><line x1=\"487.585\" y1=\"338.736\" x2=\"509.216\" y2=\"272.162\" stroke-linecap=\"round\" style=\"stroke:orange;stroke-width:1\" /><line x1=\"509.216\" y1=\"272.162\" x2=\"486.04\" y2=\"200.833\" stroke-linecap=\"round\" style=\"stroke:orange;stroke-width:1\" /><line x1=\"486.04\" y1=\"200.833\" x2=\"421.319\" y2=\"153.81\" stroke-linecap=\"round\" style=\"stroke:orange;stroke-width:1\" /><line x1=\"421.319\" y1=\"153.81\" x2=\"336.319\" y2=\"153.81\" stroke-linecap=\"round\" style=\"stroke:orange;stroke-width:1\" /><line x1=\"336.319\" y1=\"153.81\" x2=\"263.507\" y2=\"206.711\" stroke-linecap=\"round\" style=\"stroke:orange;stroke-width:1\" /><line x1=\"263.507\" y1=\"206.711\" x2=\"234.15\" y2=\"297.061\" stroke-linecap=\"round\" style=\"stroke:orange;stroke-width:1\" /><line x1=\"234.15\" y1=\"297.061\" x2=\"265.052\" y2=\"392.167\" stroke-linecap=\"round\" style=\"stroke:orange;stroke-width:1\" /><line x1=\"265.052\" y1=\"392.167\" x2=\"349.999\" y2=\"453.884\" stroke-linecap=\"round\" style=\"stroke:orange;stroke-width:1\" />\n",
              "        \n",
              "        \n",
              "        <g id=\"turtle\" visibility=\"visible\" transform=\"rotate(126.0,349.999,453.884) translate(349.999, 453.884)\">\n",
              "<path style=\"stroke:orange;fill-rule:evenodd;fill:orange;fill-opacity:1;\" transform=\"skewX(0) scale(1,1)\" d=\"m 1.1536693,-18.56101 c -2.105469,1.167969 -3.203125,3.441407 -3.140625,6.5 l 0.011719,0.519532 -0.300782,-0.15625 c -1.308594,-0.671875 -2.828125,-0.824219 -4.378906,-0.429688 -1.9375,0.484375 -3.8906253,2.089844 -6.0117193,4.9257825 -1.332031,1.785156 -1.714843,2.644531 -1.351562,3.035156 l 0.113281,0.125 h 0.363281 c 0.71875,0 1.308594,-0.265625 4.6679693,-2.113282 1.199219,-0.660156 2.183594,-1.199218 2.191406,-1.199218 0.00781,0 -0.023437,0.089844 -0.074218,0.195312 -0.472657,1.058594 -1.046876,2.785156 -1.335938,4.042969 -1.054688,4.574219 -0.351562,8.453125 2.101562,11.582031 0.28125,0.355469 0.292969,0.253906 -0.097656,0.722656 -2.046875,2.4609375 -3.027344,4.8984375 -2.734375,6.8046875 0.050781,0.339844 0.042969,0.335938 0.679688,0.335938 2.023437,0 4.15625,-1.316407 6.21875,-3.835938 0.222656,-0.269531 0.191406,-0.261719 0.425781,-0.113281 0.730469,0.46875 2.460938,1.390625 2.613281,1.390625 0.160157,0 1.765625,-0.753906 2.652344,-1.246094 0.167969,-0.09375 0.308594,-0.164062 0.308594,-0.160156 0.066406,0.105468 0.761719,0.855468 1.085937,1.171875 1.613282,1.570312 3.339844,2.402343 5.3593747,2.570312 0.324219,0.02734 0.355469,0.0078 0.425781,-0.316406 0.375,-1.742187 -0.382812,-4.058594 -2.1445307,-6.5585935 l -0.320312,-0.457031 0.15625,-0.183594 c 3.2460927,-3.824218 3.4335927,-9.08593704 0.558593,-15.816406 l -0.050781,-0.125 1.7382807,0.859375 c 3.585938,1.773437 4.371094,2.097656 5.085938,2.097656 0.945312,0 0.75,-0.863281 -0.558594,-2.507812 C 11.458356,-11.838353 8.3333563,-13.268041 4.8607003,-11.721166 l -0.363281,0.164063 0.019531,-0.09375 c 0.121094,-0.550781 0.183594,-1.800781 0.121094,-2.378907 -0.203125,-1.867187 -1.035157,-3.199218 -2.695313,-4.308593 -0.523437,-0.351563 -0.546875,-0.355469 -0.789062,-0.222657\" />\n",
              "<animateTransform id = \"one\" attributeName=\"transform\" \n",
              "                      type=\"scale\"\n",
              "                      from=\"1 1\" to=\"1 1\"\n",
              "                      begin=\"0s\" dur=\"0.01s\"\n",
              "                      repeatCount=\"1\"\n",
              "                      additive=\"sum\"\n",
              "                      fill=\"freeze\"\n",
              "                /><animateTransform attributeName=\"transform\"\n",
              "                    type=\"rotate\"\n",
              "                    from=\"0 0 0\" to =\"-36.0 0 0\"\n",
              "                    begin=\"one.end\" dur=\"0.1s\"\n",
              "                    repeatCount=\"1\"\n",
              "                    additive=\"sum\"\n",
              "                    fill=\"freeze\"\n",
              "                /></g>\n",
              "      </svg>\n",
              "    "
            ],
            "text/plain": [
              "<IPython.core.display.HTML object>"
            ]
          },
          "metadata": {},
          "output_type": "display_data"
        }
      ],
      "source": [
        "### SETUP ###\n",
        "clearscreen()\n",
        "Sandbox = Screen()\n",
        "Tracy = Turtle()\n",
        "Sandbox.bgcolor(10, 20, 20)\n",
        "Tracy.shape(\"turtle\")\n",
        "Tracy.color(\"orange\")\n",
        "### END SETUP ###\n",
        "\n",
        "def polygon(sides, size, counter=1):\n",
        "  # print(counter)\n",
        "  Tracy.forward(size)\n",
        "  Tracy.left(360/sides)\n",
        "  if counter < 2*sides:\n",
        "    polygon(sides, size+5, counter+1)\n",
        "\n",
        "\n",
        "#Call the function\n",
        "polygon(10, 10)"
      ]
    },
    {
      "cell_type": "markdown",
      "metadata": {},
      "source": [
        "Just for fun, see what happens if you modify `sides` or `size` when you tell Tracy to \"repeat\".  Could you draw a cool spiral?"
      ]
    },
    {
      "cell_type": "code",
      "execution_count": null,
      "metadata": {},
      "outputs": [],
      "source": [
        "### SETUP ###\n",
        "clearscreen()\n",
        "Sandbox = Screen()\n",
        "Tracy = Turtle()\n",
        "Sandbox.bgcolor(30, 10, 0)\n",
        "Tracy.shape(\"turtle\")\n",
        "Tracy.color(\"orange\")\n",
        "### END SETUP ###\n",
        "\n",
        "def spiral():\n",
        "  pass\n",
        "  #Fill in the function\n",
        "\n",
        "#Call the function\n",
        "spiral()"
      ]
    },
    {
      "cell_type": "markdown",
      "metadata": {},
      "source": [
        "### Fractals!\n",
        "\n",
        "Try executing the code below:"
      ]
    },
    {
      "cell_type": "code",
      "execution_count": 11,
      "metadata": {},
      "outputs": [
        {
          "data": {
            "text/html": [
              "\n",
              "      <svg width=\"800\" height=\"600\">  \n",
              "        <rect width=\"100%\" height=\"100%\" style=\"fill:rgb(14,81,53);stroke:;stroke-width:1\"/>\n",
              "        \n",
              "        \n",
              "        <line x1=\"250.0\" y1=\"400.0\" x2=\"325.0\" y2=\"400.0\" stroke-linecap=\"round\" style=\"stroke:rgb(212,206,70);stroke-width:1\" /><line x1=\"325.0\" y1=\"400.0\" x2=\"287.5\" y2=\"335.048\" stroke-linecap=\"round\" style=\"stroke:rgb(212,206,70);stroke-width:1\" /><line x1=\"287.5\" y1=\"335.048\" x2=\"250.0\" y2=\"400.0\" stroke-linecap=\"round\" style=\"stroke:rgb(212,206,70);stroke-width:1\" /><line x1=\"400.0\" y1=\"400.0\" x2=\"362.5\" y2=\"335.048\" stroke-linecap=\"round\" style=\"stroke:rgb(212,206,70);stroke-width:1\" /><line x1=\"362.5\" y1=\"335.048\" x2=\"325.0\" y2=\"400.0\" stroke-linecap=\"round\" style=\"stroke:rgb(212,206,70);stroke-width:1\" /><line x1=\"325.0\" y1=\"400.0\" x2=\"400.0\" y2=\"400.0\" stroke-linecap=\"round\" style=\"stroke:rgb(212,206,70);stroke-width:1\" /><line x1=\"325.0\" y1=\"270.096\" x2=\"287.5\" y2=\"335.048\" stroke-linecap=\"round\" style=\"stroke:rgb(212,206,70);stroke-width:1\" /><line x1=\"287.5\" y1=\"335.048\" x2=\"362.5\" y2=\"335.048\" stroke-linecap=\"round\" style=\"stroke:rgb(212,206,70);stroke-width:1\" /><line x1=\"362.5\" y1=\"335.048\" x2=\"325.0\" y2=\"270.096\" stroke-linecap=\"round\" style=\"stroke:rgb(212,206,70);stroke-width:1\" /><line x1=\"550.0\" y1=\"400.0\" x2=\"512.5\" y2=\"335.048\" stroke-linecap=\"round\" style=\"stroke:rgb(212,206,70);stroke-width:1\" /><line x1=\"512.5\" y1=\"335.048\" x2=\"475.0\" y2=\"400.0\" stroke-linecap=\"round\" style=\"stroke:rgb(212,206,70);stroke-width:1\" /><line x1=\"475.0\" y1=\"400.0\" x2=\"550.0\" y2=\"400.0\" stroke-linecap=\"round\" style=\"stroke:rgb(212,206,70);stroke-width:1\" /><line x1=\"475.0\" y1=\"270.096\" x2=\"437.5\" y2=\"335.048\" stroke-linecap=\"round\" style=\"stroke:rgb(212,206,70);stroke-width:1\" /><line x1=\"437.5\" y1=\"335.048\" x2=\"512.5\" y2=\"335.048\" stroke-linecap=\"round\" style=\"stroke:rgb(212,206,70);stroke-width:1\" /><line x1=\"512.5\" y1=\"335.048\" x2=\"475.0\" y2=\"270.096\" stroke-linecap=\"round\" style=\"stroke:rgb(212,206,70);stroke-width:1\" /><line x1=\"400.0\" y1=\"400.0\" x2=\"475.0\" y2=\"400.0\" stroke-linecap=\"round\" style=\"stroke:rgb(212,206,70);stroke-width:1\" /><line x1=\"475.0\" y1=\"400.0\" x2=\"437.5\" y2=\"335.048\" stroke-linecap=\"round\" style=\"stroke:rgb(212,206,70);stroke-width:1\" /><line x1=\"437.5\" y1=\"335.048\" x2=\"400.0\" y2=\"400.0\" stroke-linecap=\"round\" style=\"stroke:rgb(212,206,70);stroke-width:1\" /><line x1=\"400.0\" y1=\"140.192\" x2=\"362.5\" y2=\"205.144\" stroke-linecap=\"round\" style=\"stroke:rgb(212,206,70);stroke-width:1\" /><line x1=\"362.5\" y1=\"205.144\" x2=\"437.5\" y2=\"205.144\" stroke-linecap=\"round\" style=\"stroke:rgb(212,206,70);stroke-width:1\" /><line x1=\"437.5\" y1=\"205.144\" x2=\"400.0\" y2=\"140.192\" stroke-linecap=\"round\" style=\"stroke:rgb(212,206,70);stroke-width:1\" /><line x1=\"325.0\" y1=\"270.096\" x2=\"400.0\" y2=\"270.096\" stroke-linecap=\"round\" style=\"stroke:rgb(212,206,70);stroke-width:1\" /><line x1=\"400.0\" y1=\"270.096\" x2=\"362.5\" y2=\"205.144\" stroke-linecap=\"round\" style=\"stroke:rgb(212,206,70);stroke-width:1\" /><line x1=\"362.5\" y1=\"205.144\" x2=\"325.0\" y2=\"270.096\" stroke-linecap=\"round\" style=\"stroke:rgb(212,206,70);stroke-width:1\" /><line x1=\"475.0\" y1=\"270.096\" x2=\"437.5\" y2=\"205.144\" stroke-linecap=\"round\" style=\"stroke:rgb(212,206,70);stroke-width:1\" /><line x1=\"437.5\" y1=\"205.144\" x2=\"400.0\" y2=\"270.096\" stroke-linecap=\"round\" style=\"stroke:rgb(212,206,70);stroke-width:1\" /><line x1=\"400.0\" y1=\"270.096\" x2=\"475.0\" y2=\"270.096\" stroke-linecap=\"round\" style=\"stroke:rgb(212,206,70);stroke-width:1\" />\n",
              "        \n",
              "        \n",
              "        <g id=\"triangle\" visibility=\"visible\" transform=\"rotate(30,250.0,400.0) translate(250.0, 400.0)\">\n",
              "<polygon points=\"10,-8.66 0,8.66 -10,-8.66\" transform=\"skewX(0) scale(1,1)\" style=\"stroke:rgb(212,206,70);fill:rgb(212,206,70);stroke-width:1\" />\n",
              "<animateTransform id = \"one\" attributeName=\"transform\" \n",
              "                      type=\"scale\"\n",
              "                      from=\"1 1\" to=\"1 1\"\n",
              "                      begin=\"0s\" dur=\"0.01s\"\n",
              "                      repeatCount=\"1\"\n",
              "                      additive=\"sum\"\n",
              "                      fill=\"freeze\"\n",
              "                /><animateTransform attributeName=\"transform\"\n",
              "                    type=\"rotate\"\n",
              "                    from=\"0 0 0\" to =\"-120 0 0\"\n",
              "                    begin=\"one.end\" dur=\"0.006666666666666666s\"\n",
              "                    repeatCount=\"1\"\n",
              "                    additive=\"sum\"\n",
              "                    fill=\"freeze\"\n",
              "                /></g>\n",
              "      </svg>\n",
              "    "
            ],
            "text/plain": [
              "<IPython.core.display.HTML object>"
            ]
          },
          "metadata": {},
          "output_type": "display_data"
        }
      ],
      "source": [
        "### SETUP ###\n",
        "clearscreen()\n",
        "Sandbox = Screen()\n",
        "Tracy = Turtle()\n",
        "Sandbox.bgcolor(14,81,53)\n",
        "Tracy.shape(\"triangle\")\n",
        "Tracy.color(212,206,70)\n",
        "### END SETUP ###\n",
        "\n",
        "Tracy.speed(100)\n",
        "def triangle(sidelength, sidecount=0):\n",
        "  if sidecount < 3:\n",
        "    Tracy.pendown()\n",
        "    Tracy.forward(sidelength)\n",
        "    Tracy.left(120)\n",
        "    triangle(sidelength, sidecount+1)\n",
        "\n",
        "def triforce(size,depth,counter=0):\n",
        "  if counter < depth:\n",
        "    triforce(size/2, depth, counter+1)\n",
        "    Tracy.penup()\n",
        "    Tracy.forward(size*2)\n",
        "    Tracy.left(120)\n",
        "    triforce(size/2, depth, counter+1)\n",
        "    Tracy.penup()\n",
        "    Tracy.forward(size*2)\n",
        "    Tracy.left(120)\n",
        "    triforce(size/2, depth, counter+1)\n",
        "    Tracy.penup()\n",
        "    Tracy.forward(size*2)\n",
        "    Tracy.left(120)\n",
        "  else:\n",
        "    triangle(size*2)\n",
        "\n",
        "\n",
        "#change start position to center image\n",
        "Tracy.penup()\n",
        "Tracy.goto(-150,-100)\n",
        "triforce(150,2)"
      ]
    },
    {
      "cell_type": "markdown",
      "metadata": {},
      "source": [
        "Part of what makes the code above complicated is that we are calling the function recursively three times inside itself. To see what is going on better, let's look at one that only calls itself once each time through."
      ]
    },
    {
      "cell_type": "code",
      "execution_count": 13,
      "metadata": {},
      "outputs": [
        {
          "data": {
            "text/html": [
              "\n",
              "      <svg width=\"800\" height=\"600\">  \n",
              "        <rect width=\"100%\" height=\"100%\" style=\"fill:rgb(0,0,0);stroke:;stroke-width:1\"/>\n",
              "        \n",
              "        \n",
              "        <path d=\"M 400.0 300.0 A 46.32338925664062 46.32338925664062 0 0 0 432.756 286.432\" stroke-linecap=\"round\" \n",
              "            fill=\"transparent\" fill-opacity=\"0\" style=\"stroke:pink;stroke-width:1\"/><path d=\"M 432.756 286.432 A 46.32338925664062 46.32338925664062 0 0 0 367.245 220.921\" stroke-linecap=\"round\" \n",
              "            fill=\"transparent\" fill-opacity=\"0\" style=\"stroke:pink;stroke-width:1\"/><path d=\"M 367.245 220.921 A 46.32338925664062 46.32338925664062 0 0 0 432.756 286.432\" stroke-linecap=\"round\" \n",
              "            fill=\"transparent\" fill-opacity=\"0\" style=\"stroke:pink;stroke-width:1\"/><path d=\"M 432.756 286.432 A 54.49810500781249 54.49810500781249 0 0 0 448.718 247.896\" stroke-linecap=\"round\" \n",
              "            fill=\"transparent\" fill-opacity=\"0\" style=\"stroke:pink;stroke-width:1\"/><path d=\"M 448.718 247.896 A 54.49810500781249 54.49810500781249 0 0 0 339.722 247.896\" stroke-linecap=\"round\" \n",
              "            fill=\"transparent\" fill-opacity=\"0\" style=\"stroke:pink;stroke-width:1\"/><path d=\"M 339.722 247.896 A 54.49810500781249 54.49810500781249 0 0 0 448.718 247.896\" stroke-linecap=\"round\" \n",
              "            fill=\"transparent\" fill-opacity=\"0\" style=\"stroke:pink;stroke-width:1\"/><path d=\"M 448.718 247.896 A 64.11541765624999 64.11541765624999 0 0 0 429.939 202.56\" stroke-linecap=\"round\" \n",
              "            fill=\"transparent\" fill-opacity=\"0\" style=\"stroke:pink;stroke-width:1\"/><path d=\"M 429.939 202.56 A 64.11541765624999 64.11541765624999 0 0 0 339.266 293.233\" stroke-linecap=\"round\" \n",
              "            fill=\"transparent\" fill-opacity=\"0\" style=\"stroke:pink;stroke-width:1\"/><path d=\"M 339.266 293.233 A 64.11541765624999 64.11541765624999 0 0 0 429.939 202.56\" stroke-linecap=\"round\" \n",
              "            fill=\"transparent\" fill-opacity=\"0\" style=\"stroke:pink;stroke-width:1\"/><path d=\"M 429.939 202.56 A 75.429903125 75.429903125 0 0 0 376.602 180.467\" stroke-linecap=\"round\" \n",
              "            fill=\"transparent\" fill-opacity=\"0\" style=\"stroke:pink;stroke-width:1\"/><path d=\"M 376.602 180.467 A 75.429903125 75.429903125 0 0 0 376.602 331.327\" stroke-linecap=\"round\" \n",
              "            fill=\"transparent\" fill-opacity=\"0\" style=\"stroke:pink;stroke-width:1\"/><path d=\"M 376.602 331.327 A 75.429903125 75.429903125 0 0 0 376.602 180.467\" stroke-linecap=\"round\" \n",
              "            fill=\"transparent\" fill-opacity=\"0\" style=\"stroke:pink;stroke-width:1\"/><path d=\"M 376.602 180.467 A 88.7410625 88.7410625 0 0 0 313.853 206.459\" stroke-linecap=\"round\" \n",
              "            fill=\"transparent\" fill-opacity=\"0\" style=\"stroke:pink;stroke-width:1\"/><path d=\"M 313.853 206.459 A 88.7410625 88.7410625 0 0 0 439.352 331.958\" stroke-linecap=\"round\" \n",
              "            fill=\"transparent\" fill-opacity=\"0\" style=\"stroke:pink;stroke-width:1\"/><path d=\"M 439.352 331.958 A 88.7410625 88.7410625 0 0 0 313.853 206.459\" stroke-linecap=\"round\" \n",
              "            fill=\"transparent\" fill-opacity=\"0\" style=\"stroke:pink;stroke-width:1\"/><path d=\"M 313.853 206.459 A 104.40125 104.40125 0 0 0 283.275 280.282\" stroke-linecap=\"round\" \n",
              "            fill=\"transparent\" fill-opacity=\"0\" style=\"stroke:pink;stroke-width:1\"/><path d=\"M 283.275 280.282 A 104.40125 104.40125 0 0 0 492.077 280.282\" stroke-linecap=\"round\" \n",
              "            fill=\"transparent\" fill-opacity=\"0\" style=\"stroke:pink;stroke-width:1\"/><path d=\"M 492.077 280.282 A 104.40125 104.40125 0 0 0 283.274 280.282\" stroke-linecap=\"round\" \n",
              "            fill=\"transparent\" fill-opacity=\"0\" style=\"stroke:pink;stroke-width:1\"/><path d=\"M 283.274 280.282 A 122.825 122.825 0 0 0 319.249 367.132\" stroke-linecap=\"round\" \n",
              "            fill=\"transparent\" fill-opacity=\"0\" style=\"stroke:pink;stroke-width:1\"/><path d=\"M 319.249 367.132 A 122.825 122.825 0 0 0 492.95 193.431\" stroke-linecap=\"round\" \n",
              "            fill=\"transparent\" fill-opacity=\"0\" style=\"stroke:pink;stroke-width:1\"/><path d=\"M 492.95 193.431 A 122.825 122.825 0 0 0 319.249 367.132\" stroke-linecap=\"round\" \n",
              "            fill=\"transparent\" fill-opacity=\"0\" style=\"stroke:pink;stroke-width:1\"/><path d=\"M 319.249 367.132 A 144.5 144.5 0 0 0 421.426 409.455\" stroke-linecap=\"round\" \n",
              "            fill=\"transparent\" fill-opacity=\"0\" style=\"stroke:pink;stroke-width:1\"/><path d=\"M 421.426 409.455 A 144.5 144.5 0 0 0 421.426 120.455\" stroke-linecap=\"round\" \n",
              "            fill=\"transparent\" fill-opacity=\"0\" style=\"stroke:pink;stroke-width:1\"/><path d=\"M 421.426 120.455 A 144.5 144.5 0 0 0 421.426 409.455\" stroke-linecap=\"round\" \n",
              "            fill=\"transparent\" fill-opacity=\"0\" style=\"stroke:pink;stroke-width:1\"/><path d=\"M 421.426 409.455 A 170.0 170.0 0 0 0 541.634 359.663\" stroke-linecap=\"round\" \n",
              "            fill=\"transparent\" fill-opacity=\"0\" style=\"stroke:pink;stroke-width:1\"/><path d=\"M 541.634 359.663 A 170.0 170.0 0 0 0 301.218 119.247\" stroke-linecap=\"round\" \n",
              "            fill=\"transparent\" fill-opacity=\"0\" style=\"stroke:pink;stroke-width:1\"/><path d=\"M 301.218 119.247 A 170.0 170.0 0 0 0 541.634 359.663\" stroke-linecap=\"round\" \n",
              "            fill=\"transparent\" fill-opacity=\"0\" style=\"stroke:pink;stroke-width:1\"/><path d=\"M 541.634 359.663 A 200 200 0 0 0 600.213 218.242\" stroke-linecap=\"round\" \n",
              "            fill=\"transparent\" fill-opacity=\"0\" style=\"stroke:pink;stroke-width:1\"/><path d=\"M 600.213 218.242 A 200 200 0 0 0 593.398 166.478\" stroke-linecap=\"round\" \n",
              "            fill=\"transparent\" fill-opacity=\"0\" style=\"stroke:pink;stroke-width:1\"/><path d=\"M 593.398 166.478 A 200 200 0 0 0 573.418 118.242\" stroke-linecap=\"round\" \n",
              "            fill=\"transparent\" fill-opacity=\"0\" style=\"stroke:pink;stroke-width:1\"/><path d=\"M 573.418 118.242 A 200 200 0 0 0 541.634 76.821\" stroke-linecap=\"round\" \n",
              "            fill=\"transparent\" fill-opacity=\"0\" style=\"stroke:pink;stroke-width:1\"/><path d=\"M 541.634 76.821 A 200 200 0 0 0 500.213 45.037\" stroke-linecap=\"round\" \n",
              "            fill=\"transparent\" fill-opacity=\"0\" style=\"stroke:pink;stroke-width:1\"/><path d=\"M 500.213 45.037 A 200 200 0 0 0 451.977 25.057\" stroke-linecap=\"round\" \n",
              "            fill=\"transparent\" fill-opacity=\"0\" style=\"stroke:pink;stroke-width:1\"/><path d=\"M 451.977 25.057 A 200 200 0 0 0 400.213 18.242\" stroke-linecap=\"round\" \n",
              "            fill=\"transparent\" fill-opacity=\"0\" style=\"stroke:pink;stroke-width:1\"/><path d=\"M 400.213 18.242 A 200 200 0 0 0 348.449 25.057\" stroke-linecap=\"round\" \n",
              "            fill=\"transparent\" fill-opacity=\"0\" style=\"stroke:pink;stroke-width:1\"/><path d=\"M 348.449 25.057 A 200 200 0 0 0 300.213 45.037\" stroke-linecap=\"round\" \n",
              "            fill=\"transparent\" fill-opacity=\"0\" style=\"stroke:pink;stroke-width:1\"/><path d=\"M 300.213 45.037 A 200 200 0 0 0 258.792 76.821\" stroke-linecap=\"round\" \n",
              "            fill=\"transparent\" fill-opacity=\"0\" style=\"stroke:pink;stroke-width:1\"/><path d=\"M 258.792 76.821 A 200 200 0 0 0 227.008 118.242\" stroke-linecap=\"round\" \n",
              "            fill=\"transparent\" fill-opacity=\"0\" style=\"stroke:pink;stroke-width:1\"/><path d=\"M 227.008 118.242 A 200 200 0 0 0 207.028 166.478\" stroke-linecap=\"round\" \n",
              "            fill=\"transparent\" fill-opacity=\"0\" style=\"stroke:pink;stroke-width:1\"/><path d=\"M 207.028 166.478 A 200 200 0 0 0 200.213 218.242\" stroke-linecap=\"round\" \n",
              "            fill=\"transparent\" fill-opacity=\"0\" style=\"stroke:pink;stroke-width:1\"/><path d=\"M 200.213 218.242 A 200 200 0 0 0 207.028 270.006\" stroke-linecap=\"round\" \n",
              "            fill=\"transparent\" fill-opacity=\"0\" style=\"stroke:pink;stroke-width:1\"/><path d=\"M 207.028 270.006 A 200 200 0 0 0 227.008 318.242\" stroke-linecap=\"round\" \n",
              "            fill=\"transparent\" fill-opacity=\"0\" style=\"stroke:pink;stroke-width:1\"/><path d=\"M 227.008 318.242 A 200 200 0 0 0 258.792 359.663\" stroke-linecap=\"round\" \n",
              "            fill=\"transparent\" fill-opacity=\"0\" style=\"stroke:pink;stroke-width:1\"/><path d=\"M 258.792 359.663 A 200 200 0 0 0 300.213 391.447\" stroke-linecap=\"round\" \n",
              "            fill=\"transparent\" fill-opacity=\"0\" style=\"stroke:pink;stroke-width:1\"/><path d=\"M 300.213 391.447 A 200 200 0 0 0 348.449 411.427\" stroke-linecap=\"round\" \n",
              "            fill=\"transparent\" fill-opacity=\"0\" style=\"stroke:pink;stroke-width:1\"/><path d=\"M 348.449 411.427 A 200 200 0 0 0 400.213 418.242\" stroke-linecap=\"round\" \n",
              "            fill=\"transparent\" fill-opacity=\"0\" style=\"stroke:pink;stroke-width:1\"/><path d=\"M 400.213 418.242 A 200 200 0 0 0 451.977 411.427\" stroke-linecap=\"round\" \n",
              "            fill=\"transparent\" fill-opacity=\"0\" style=\"stroke:pink;stroke-width:1\"/><path d=\"M 451.977 411.427 A 200 200 0 0 0 500.213 391.447\" stroke-linecap=\"round\" \n",
              "            fill=\"transparent\" fill-opacity=\"0\" style=\"stroke:pink;stroke-width:1\"/><path d=\"M 500.213 391.447 A 200 200 0 0 0 541.634 359.663\" stroke-linecap=\"round\" \n",
              "            fill=\"transparent\" fill-opacity=\"0\" style=\"stroke:pink;stroke-width:1\"/><path d=\"M 541.634 359.663 A 200 200 0 0 0 573.418 318.242\" stroke-linecap=\"round\" \n",
              "            fill=\"transparent\" fill-opacity=\"0\" style=\"stroke:pink;stroke-width:1\"/><path d=\"M 573.418 318.242 A 200 200 0 0 0 593.398 270.006\" stroke-linecap=\"round\" \n",
              "            fill=\"transparent\" fill-opacity=\"0\" style=\"stroke:pink;stroke-width:1\"/><path d=\"M 593.398 270.006 A 200 200 0 0 0 600.213 218.242\" stroke-linecap=\"round\" \n",
              "            fill=\"transparent\" fill-opacity=\"0\" style=\"stroke:pink;stroke-width:1\"/>\n",
              "        \n",
              "        \n",
              "        <g id=\"turtle\" visibility=\"visible\" transform=\"rotate(360.0,600.213,218.242) translate(600.213, 218.242)\">\n",
              "<path style=\"stroke:pink;fill-rule:evenodd;fill:pink;fill-opacity:1;\" transform=\"skewX(0) scale(1,1)\" d=\"m 1.1536693,-18.56101 c -2.105469,1.167969 -3.203125,3.441407 -3.140625,6.5 l 0.011719,0.519532 -0.300782,-0.15625 c -1.308594,-0.671875 -2.828125,-0.824219 -4.378906,-0.429688 -1.9375,0.484375 -3.8906253,2.089844 -6.0117193,4.9257825 -1.332031,1.785156 -1.714843,2.644531 -1.351562,3.035156 l 0.113281,0.125 h 0.363281 c 0.71875,0 1.308594,-0.265625 4.6679693,-2.113282 1.199219,-0.660156 2.183594,-1.199218 2.191406,-1.199218 0.00781,0 -0.023437,0.089844 -0.074218,0.195312 -0.472657,1.058594 -1.046876,2.785156 -1.335938,4.042969 -1.054688,4.574219 -0.351562,8.453125 2.101562,11.582031 0.28125,0.355469 0.292969,0.253906 -0.097656,0.722656 -2.046875,2.4609375 -3.027344,4.8984375 -2.734375,6.8046875 0.050781,0.339844 0.042969,0.335938 0.679688,0.335938 2.023437,0 4.15625,-1.316407 6.21875,-3.835938 0.222656,-0.269531 0.191406,-0.261719 0.425781,-0.113281 0.730469,0.46875 2.460938,1.390625 2.613281,1.390625 0.160157,0 1.765625,-0.753906 2.652344,-1.246094 0.167969,-0.09375 0.308594,-0.164062 0.308594,-0.160156 0.066406,0.105468 0.761719,0.855468 1.085937,1.171875 1.613282,1.570312 3.339844,2.402343 5.3593747,2.570312 0.324219,0.02734 0.355469,0.0078 0.425781,-0.316406 0.375,-1.742187 -0.382812,-4.058594 -2.1445307,-6.5585935 l -0.320312,-0.457031 0.15625,-0.183594 c 3.2460927,-3.824218 3.4335927,-9.08593704 0.558593,-15.816406 l -0.050781,-0.125 1.7382807,0.859375 c 3.585938,1.773437 4.371094,2.097656 5.085938,2.097656 0.945312,0 0.75,-0.863281 -0.558594,-2.507812 C 11.458356,-11.838353 8.3333563,-13.268041 4.8607003,-11.721166 l -0.363281,0.164063 0.019531,-0.09375 c 0.121094,-0.550781 0.183594,-1.800781 0.121094,-2.378907 -0.203125,-1.867187 -1.035157,-3.199218 -2.695313,-4.308593 -0.523437,-0.351563 -0.546875,-0.355469 -0.789062,-0.222657\" />\n",
              "</g>\n",
              "      </svg>\n",
              "    "
            ],
            "text/plain": [
              "<IPython.core.display.HTML object>"
            ]
          },
          "metadata": {},
          "output_type": "display_data"
        }
      ],
      "source": [
        "### SETUP ###\n",
        "clearscreen()\n",
        "Sandbox = Screen()\n",
        "Tracy = Turtle()\n",
        "Sandbox.bgcolor(0, 0, 0)\n",
        "Tracy.shape(\"turtle\")\n",
        "Tracy.color(\"pink\")\n",
        "### END SETUP ###\n",
        "\n",
        "Tracy.speed(10)\n",
        "def circles(size, depth, counter=0):\n",
        "  if counter < depth:\n",
        "    circles(0.85*size, depth, counter+1)\n",
        "    # \"stamp\" so we can see where the circle starts\n",
        "    # Tracy.stamp()\n",
        "    # Move start to a quarter way around a circle\n",
        "    Tracy.circle(size,45)\n",
        "    # Draw a circle\n",
        "    Tracy.circle(size)\n",
        "\n",
        "\n",
        "circles(200,10)"
      ]
    },
    {
      "cell_type": "markdown",
      "metadata": {},
      "source": [
        "## What's next?  \n",
        "\n",
        "Let's add a little color.  Can we write a function that colors the sides of a polygon with three colors, repeating in sequence?  How can we control that?"
      ]
    }
  ],
  "metadata": {
    "colab": {
      "include_colab_link": true,
      "provenance": []
    },
    "kernelspec": {
      "display_name": "Python 3",
      "name": "python3"
    },
    "language_info": {
      "codemirror_mode": {
        "name": "ipython",
        "version": 3
      },
      "file_extension": ".py",
      "mimetype": "text/x-python",
      "name": "python",
      "nbconvert_exporter": "python",
      "pygments_lexer": "ipython3",
      "version": "3.10.8"
    }
  },
  "nbformat": 4,
  "nbformat_minor": 0
}
